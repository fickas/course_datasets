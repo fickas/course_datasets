{
  "nbformat": 4,
  "nbformat_minor": 0,
  "metadata": {
    "colab": {
      "provenance": [],
      "authorship_tag": "ABX9TyMlO86Vrg/tA0RtIcRud4wO",
      "include_colab_link": true
    },
    "kernelspec": {
      "name": "python3",
      "display_name": "Python 3"
    },
    "language_info": {
      "name": "python"
    }
  },
  "cells": [
    {
      "cell_type": "markdown",
      "metadata": {
        "id": "view-in-github",
        "colab_type": "text"
      },
      "source": [
        "<a href=\"https://colab.research.google.com/github/fickas/course_datasets/blob/main/mlops_gemini.ipynb\" target=\"_parent\"><img src=\"https://colab.research.google.com/assets/colab-badge.svg\" alt=\"Open In Colab\"/></a>"
      ]
    },
    {
      "cell_type": "markdown",
      "source": [
        "<center>\n",
        "\n",
        "<h1>Test of Gemini for MLOPS course</h1>\n",
        "\n",
        "</center>"
      ],
      "metadata": {
        "id": "iwO77qk8g49x"
      }
    },
    {
      "cell_type": "markdown",
      "source": [
        "##CS 423/523\n",
        "\n",
        "Prereqs: moderate amount of Python programming experience.\n",
        "\n",
        "Non-group oriented. Students encouraged to collaborate on homework if they wish but work solo on exams and final project. My experience is that most students work solo on everything."
      ],
      "metadata": {
        "id": "phHEC_7ywCmd"
      }
    },
    {
      "cell_type": "markdown",
      "source": [
        "##Students build their own library\n",
        "\n",
        "Prior to this year, I did not require they document their library code. Nor did I model what full documentation would look like — mea culpa.\n",
        "\n",
        "This year big sea-change for me:\n",
        "\n",
        "1. I found Gemini (or another co-pilot) could fully document my barebones code, including strong typing, run-time asserts, and coherent doc-strings describing functionality.\n",
        "\n",
        "2. This documentation could now be used by Gemini to find code to apply to future problems. In essence, when they load their fully-documented library code, it becomes fodder for Gemini going forward.\n",
        "\n",
        "In essence, I was documenting for Gemini perhaps more so than other programmers/me."
      ],
      "metadata": {
        "id": "2s84_20LrWW-"
      }
    },
    {
      "cell_type": "markdown",
      "source": [
        "##Hypocrisy avoidance\n",
        "\n",
        "I use Gemini (or Claude, chatGPT, etc.) extensively in my own MLOPS work. I estimate it saves me hours if not days of work. Not so much on Python but on the complex libraries you must use. So MLOPS is not generally about writing from scratch, but correct use and gluing together of library code.\n",
        "\n",
        "I could not see restricting its use in my class. More than that, I plan to model how to use it!"
      ],
      "metadata": {
        "id": "j8_afa10szj-"
      }
    },
    {
      "cell_type": "markdown",
      "source": [
        "##Students won't learn\n",
        "\n",
        "I cannot rule out some students blindly using it, like they can now use websites that will code for them for a fee.\n",
        "\n",
        "But my experience tells me that a majority of students will not use it blindly, will check the code it produces, and may even learn from it (as I often do).\n",
        "\n",
        "I will have a better feel for this after spring quarter."
      ],
      "metadata": {
        "id": "tDLYKoiQcHkT"
      }
    },
    {
      "cell_type": "markdown",
      "source": [
        "#Challenge 1\n",
        "\n",
        "Please wrap `KNNImputer` in a custom transformer `CustomKNNTransformer`. It should accept `n_neighbors` and `weights` as arguments. `add_indicator` should always be false."
      ],
      "metadata": {
        "id": "-gdP3v8Cg-st"
      }
    },
    {
      "cell_type": "code",
      "source": [],
      "metadata": {
        "id": "Bk8S8bZqi9cV"
      },
      "execution_count": null,
      "outputs": []
    },
    {
      "cell_type": "markdown",
      "source": [
        "###Here is a test (most of this code auto-generated)"
      ],
      "metadata": {
        "id": "fREGuwKZnRv2"
      }
    },
    {
      "cell_type": "code",
      "source": [
        "data = [[1,2,np.nan,10],\n",
        "        [np.nan,3,np.nan,10],\n",
        "        [5,np.nan,6,10],\n",
        "        [7,8,9,10]]\n",
        "test_df = pd.DataFrame(data, columns=['a','b','c','d'])\n",
        "test_df"
      ],
      "metadata": {
        "id": "jmE14eeynZQf"
      },
      "execution_count": null,
      "outputs": []
    },
    {
      "cell_type": "code",
      "source": [
        "imputer = CustomKNNTransformer(n_neighbors=2, weights='uniform')\n",
        "imputer.fit_transform(test_df)"
      ],
      "metadata": {
        "id": "m9QRC2zBfiVd"
      },
      "execution_count": null,
      "outputs": []
    },
    {
      "cell_type": "markdown",
      "source": [
        "###Expected result\n",
        "\n",
        "|index|a|b|c|d|\n",
        "|---|---|---|---|---|\n",
        "|0|1\\.0|2\\.0|7\\.5|10\\.0|\n",
        "|1|3\\.0|3\\.0|7\\.5|10\\.0|\n",
        "|2|5\\.0|5\\.5|6\\.0|10\\.0|\n",
        "|3|7\\.0|8\\.0|9\\.0|10\\.0|"
      ],
      "metadata": {
        "id": "VuQZTJG-gdOI"
      }
    },
    {
      "cell_type": "markdown",
      "source": [
        "#Challenge 2"
      ],
      "metadata": {
        "id": "olsaOvoSjUHX"
      }
    },
    {
      "cell_type": "markdown",
      "source": [
        "How would you use `CustomKNNTransformer` in a pipeline?"
      ],
      "metadata": {
        "id": "uVMtAhxVjW4L"
      }
    },
    {
      "cell_type": "code",
      "source": [],
      "metadata": {
        "id": "59zxUXqBjrOS"
      },
      "execution_count": null,
      "outputs": []
    },
    {
      "cell_type": "markdown",
      "source": [
        "#Challenge 3\n",
        "\n",
        "Please write a 3Sigma custom transformer that can be placed in a pipeline. It takes as arguments a table and a single column to operate on. Please clip any outliers to outer bounds. Return value should be a dataframe."
      ],
      "metadata": {
        "id": "4ldAxYAzGXn7"
      }
    },
    {
      "cell_type": "code",
      "source": [],
      "metadata": {
        "id": "o7MxwUr-Gipf"
      },
      "execution_count": null,
      "outputs": []
    }
  ]
}